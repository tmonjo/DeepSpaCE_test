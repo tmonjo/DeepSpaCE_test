{
 "cells": [
  {
   "cell_type": "code",
   "execution_count": 66,
   "metadata": {},
   "outputs": [],
   "source": [
    "import math\n",
    "import numpy as np\n",
    "import pandas as pd\n",
    "import matplotlib.pyplot as plt\n",
    "import matplotlib\n",
    "matplotlib.use('Agg')\n",
    "import argparse\n",
    "import subprocess\n",
    "\n",
    "import cv2\n",
    "from PIL import Image\n"
   ]
  },
  {
   "cell_type": "code",
   "execution_count": 61,
   "metadata": {},
   "outputs": [],
   "source": [
    "parser = argparse.ArgumentParser(description='Crop Image')\n",
    "parser.add_argument('--rootDir', type=str, default='/home/monjo/DeepSpaCE/data')\n",
    "parser.add_argument('--sampleName', type=str, default='Human_Breast_Cancer_Block_A_Section_1')\n",
    "parser.add_argument('--transposeType', type=int, default=0, help='0: No transpose, 1: Rotate90CC, 2: Rotate90CC+Flip')\n",
    "parser.add_argument('--radiusPixel', type=int, default=40)\n",
    "parser.add_argument('--extraSize', type=int, default=150)\n",
    "parser.add_argument('--quantileRGB', type=int, default=80)\n",
    "args = parser.parse_args(args=[])\n"
   ]
  },
  {
   "cell_type": "code",
   "execution_count": 62,
   "metadata": {},
   "outputs": [
    {
     "name": "stdout",
     "output_type": "stream",
     "text": [
      "Namespace(extraSize=150, quantileRGB=80, radiusPixel=40, rootDir='/home/monjo/DeepSpaCE/data', sampleName='Human_Breast_Cancer_Block_A_Section_1', transposeType=0)\n"
     ]
    }
   ],
   "source": [
    "print(args)\n"
   ]
  },
  {
   "cell_type": "code",
   "execution_count": 63,
   "metadata": {},
   "outputs": [
    {
     "name": "stdout",
     "output_type": "stream",
     "text": [
      "rootDir: /home/monjo/DeepSpaCE/data\n",
      "sampleName: Human_Breast_Cancer_Block_A_Section_1\n",
      "transposeType: 0\n",
      "radiusPixel: 40\n",
      "extraSize: 150\n",
      "quantileRGB: 80\n"
     ]
    }
   ],
   "source": [
    "rootDir = args.rootDir\n",
    "print(\"rootDir: \"+str(rootDir))\n",
    "\n",
    "sampleName = args.sampleName\n",
    "print(\"sampleName: \"+sampleName)\n",
    "\n",
    "transposeType = args.transposeType\n",
    "print(\"transposeType: \"+str(transposeType))\n",
    "\n",
    "radiusPixel = args.radiusPixel\n",
    "print(\"radiusPixel: \"+str(radiusPixel))\n",
    "\n",
    "extraSize = args.extraSize\n",
    "print(\"extraSize: \"+str(extraSize))\n",
    "\n",
    "quantileRGB = args.quantileRGB\n",
    "print(\"quantileRGB: \"+str(quantileRGB))\n"
   ]
  },
  {
   "cell_type": "code",
   "execution_count": 5,
   "metadata": {},
   "outputs": [],
   "source": [
    "def pil2cv(image):\n",
    "    ''' PIL -> OpenCV '''\n",
    "    new_image = np.array(image, dtype=np.uint8)\n",
    "    if new_image.ndim == 2:\n",
    "        pass\n",
    "    elif new_image.shape[2] == 3:\n",
    "        new_image = cv2.cvtColor(new_image, cv2.COLOR_RGB2BGR)\n",
    "    elif new_image.shape[2] == 4:\n",
    "        new_image = cv2.cvtColor(new_image, cv2.COLOR_RGBA2BGRA)\n",
    "    return new_image\n"
   ]
  },
  {
   "cell_type": "markdown",
   "metadata": {},
   "source": [
    "# Crop Image"
   ]
  },
  {
   "cell_type": "code",
   "execution_count": 6,
   "metadata": {},
   "outputs": [
    {
     "data": {
      "text/plain": [
       "0"
      ]
     },
     "execution_count": 6,
     "metadata": {},
     "output_type": "execute_result"
    }
   ],
   "source": [
    "dirName = rootDir+\"/\"+sampleName\n",
    "\n",
    "subprocess.call(['mkdir','-p',dirName+\"/CropImage/size_\"+str(extraSize)+\"/spot_images\"])\n"
   ]
  },
  {
   "cell_type": "code",
   "execution_count": 7,
   "metadata": {},
   "outputs": [
    {
     "name": "stdout",
     "output_type": "stream",
     "text": [
      "(24240, 24240, 3)\n"
     ]
    }
   ],
   "source": [
    "### load Image\n",
    "Image.MAX_IMAGE_PIXELS = 1000000000\n",
    "I = Image.open(dirName+\"/SpaceRanger/image.tif\")\n",
    "\n",
    "I = pil2cv(I)\n",
    "\n",
    "print(I.shape)\n"
   ]
  },
  {
   "cell_type": "code",
   "execution_count": 8,
   "metadata": {},
   "outputs": [
    {
     "name": "stdout",
     "output_type": "stream",
     "text": [
      "(24240, 24240, 3)\n"
     ]
    }
   ],
   "source": [
    "## Transpose\n",
    "if transposeType == 1:\n",
    "    I = cv2.rotate(I, cv2.ROTATE_90_COUNTERCLOCKWISE)\n",
    "\n",
    "elif transposeType == 2:\n",
    "    I = cv2.rotate(I, cv2.ROTATE_90_COUNTERCLOCKWISE)\n",
    "    I = np.fliplr(I)\n",
    "\n",
    "cv2.imwrite(dirName+\"/CropImage/size_\"+str(extraSize)+\"/transpose_image.tif\", I)\n",
    "\n",
    "### load Image\n",
    "I = cv2.imread(dirName+\"/CropImage/size_\"+str(extraSize)+\"/transpose_image.tif\")\n",
    "\n",
    "print(I.shape)\n"
   ]
  },
  {
   "cell_type": "code",
   "execution_count": 9,
   "metadata": {},
   "outputs": [],
   "source": [
    "# keep original image\n",
    "I_org = I.copy()\n"
   ]
  },
  {
   "cell_type": "code",
   "execution_count": 10,
   "metadata": {},
   "outputs": [
    {
     "name": "stdout",
     "output_type": "stream",
     "text": [
      "tissue_pos: (4992, 7)\n",
      "              Barcode  in_tissue  array_row  array_col  pxl_row_in_fullres  \\\n",
      "0  ACGCCTGACACGCGCT-1          0          0          0                4034   \n",
      "1  TACCGATCCAACACTT-1          0          1          1                4271   \n",
      "2  ATTAAAGCGGACGAGC-1          0          0          2                4034   \n",
      "3  GATAAGGGACGATTAG-1          0          1          3                4272   \n",
      "4  GTGCAAATCACCAATA-1          0          0          4                4035   \n",
      "\n",
      "   pxl_col_in_fullres  imageID  \n",
      "0                3524        0  \n",
      "1                3660        1  \n",
      "2                3797        2  \n",
      "3                3933        3  \n",
      "4                4070        4  \n"
     ]
    }
   ],
   "source": [
    "### load tissue_position\n",
    "tissue_pos = pd.read_csv(dirName+\"/SpaceRanger/spatial/tissue_positions_list.csv\", header=None)\n",
    "tissue_pos.columns = ['Barcode','in_tissue','array_row','array_col','pxl_row_in_fullres','pxl_col_in_fullres']\n",
    "\n",
    "tissue_pos['imageID'] = tissue_pos.index\n",
    "\n",
    "print(\"tissue_pos: \"+str(tissue_pos.shape))\n",
    "print(tissue_pos.head())\n"
   ]
  },
  {
   "cell_type": "code",
   "execution_count": 11,
   "metadata": {},
   "outputs": [
    {
     "name": "stdout",
     "output_type": "stream",
     "text": [
      "radius: 100\n"
     ]
    }
   ],
   "source": [
    "## calc radius\n",
    "radius = math.ceil(radiusPixel * (1 + extraSize/100))\n",
    "print(\"radius: \"+str(radius))\n"
   ]
  },
  {
   "cell_type": "code",
   "execution_count": 12,
   "metadata": {},
   "outputs": [],
   "source": [
    "### draw line and text\n",
    "for i in range(4992):\n",
    "    pos_x1 = tissue_pos.iloc[i,5]-radius\n",
    "    pos_x2 = tissue_pos.iloc[i,5]+radius\n",
    "    pos_y1 = tissue_pos.iloc[i,4]-radius\n",
    "    pos_y2 = tissue_pos.iloc[i,4]+radius\n",
    "    \n",
    "    I = cv2.rectangle(I, (pos_x1,pos_y1), (pos_x2,pos_y2), (0, 0, 0), 2)\n",
    "    I = cv2.putText(I, str(i), (pos_x1,pos_y1), cv2.FONT_HERSHEY_DUPLEX, 1.0, (0, 0, 0), lineType=cv2.LINE_AA, thickness=2)\n"
   ]
  },
  {
   "cell_type": "code",
   "execution_count": 13,
   "metadata": {},
   "outputs": [
    {
     "data": {
      "text/plain": [
       "True"
      ]
     },
     "execution_count": 13,
     "metadata": {},
     "output_type": "execute_result"
    }
   ],
   "source": [
    "### save Image\n",
    "cv2.imwrite(dirName+\"/CropImage/size_\"+str(extraSize)+\"/original_image_with_spots.tif\", I)\n"
   ]
  },
  {
   "cell_type": "code",
   "execution_count": 14,
   "metadata": {},
   "outputs": [],
   "source": [
    "### split Image\n",
    "I = I_org.copy()\n",
    "\n",
    "for i in range(4992):\n",
    "    pos_x1 = tissue_pos.iloc[i,5]-radius\n",
    "    pos_x2 = tissue_pos.iloc[i,5]+radius\n",
    "    pos_y1 = tissue_pos.iloc[i,4]-radius\n",
    "    pos_y2 = tissue_pos.iloc[i,4]+radius\n",
    "\n",
    "    I2 = I[pos_y1:pos_y2, pos_x1:pos_x2]\n",
    "    cv2.imwrite(dirName+\"/CropImage/size_\"+str(extraSize)+\"/spot_images/spot_image_\"+str(i).zfill(4)+\".tif\", I2)\n"
   ]
  },
  {
   "cell_type": "markdown",
   "metadata": {},
   "source": [
    "# Make RGB filter list"
   ]
  },
  {
   "cell_type": "code",
   "execution_count": 15,
   "metadata": {},
   "outputs": [
    {
     "name": "stdout",
     "output_type": "stream",
     "text": [
      "cluster_list: (3813, 2)\n",
      "              Barcode  Cluster\n",
      "0  AAACAAGTATCTCCCA-1        1\n",
      "1  AAACACCAATAACTGC-1        2\n",
      "2  AAACAGAGCGACTCCT-1        4\n",
      "3  AAACAGGGTCTATATT-1        1\n",
      "4  AAACAGTGTTCCTGGG-1        2\n"
     ]
    }
   ],
   "source": [
    "### load cluster list ###\n",
    "cluster_list = pd.read_csv(dirName+\"/SpaceRanger/analysis/clustering/graphclust/clusters.csv\")\n",
    "\n",
    "print(\"cluster_list: \"+str(cluster_list.shape))\n",
    "print(cluster_list.head())\n"
   ]
  },
  {
   "cell_type": "code",
   "execution_count": 16,
   "metadata": {},
   "outputs": [
    {
     "name": "stdout",
     "output_type": "stream",
     "text": [
      "cluster_pos_df: (3813, 10)\n",
      "               Barcode  Cluster  in_tissue  array_row  array_col  \\\n",
      "49  CAGGATCCGCCCGACC-1       10          1          1         49   \n",
      "50  CACGATTGGTCGTTAA-1       10          1          0         50   \n",
      "51  GGTTGTATCGTGAAAT-1       10          1          1         51   \n",
      "52  TCTTATGGGTAGTACC-1       10          1          0         52   \n",
      "53  TACAAGCTGTTCACTG-1       10          1          1         53   \n",
      "\n",
      "    pxl_row_in_fullres  pxl_col_in_fullres  imageID  \\\n",
      "49                4283               10213       49   \n",
      "50                4046               10350       50   \n",
      "51                4284               10486       51   \n",
      "52                4047               10623       52   \n",
      "53                4284               10759       53   \n",
      "\n",
      "                                           image_path ImageFilter  \n",
      "49  /home/monjo/DeepSpaCE/data/Human_Breast_Cancer...        null  \n",
      "50  /home/monjo/DeepSpaCE/data/Human_Breast_Cancer...        null  \n",
      "51  /home/monjo/DeepSpaCE/data/Human_Breast_Cancer...        null  \n",
      "52  /home/monjo/DeepSpaCE/data/Human_Breast_Cancer...        null  \n",
      "53  /home/monjo/DeepSpaCE/data/Human_Breast_Cancer...        null  \n"
     ]
    }
   ],
   "source": [
    "### merge cluster file and tissue position file ###\n",
    "cluster_pos_df = pd.merge(cluster_list, tissue_pos, how='left', on='Barcode')\n",
    "\n",
    "cluster_pos_df['image_path'] = [dirName+\"/CropImage/size_\"+str(extraSize)+\"/spot_images/spot_image_\"+str(s).zfill(4)+\".tif\" for s in cluster_pos_df['imageID'].tolist()]\n",
    "cluster_pos_df = cluster_pos_df.sort_values('imageID')\n",
    "cluster_pos_df.index = cluster_pos_df['imageID'].tolist()\n",
    "\n",
    "cluster_pos_df['ImageFilter'] = \"null\"\n",
    "cluster_pos_df\n",
    "\n",
    "print(\"cluster_pos_df: \"+str(cluster_pos_df.shape))\n",
    "print(cluster_pos_df.head())\n"
   ]
  },
  {
   "cell_type": "code",
   "execution_count": 17,
   "metadata": {},
   "outputs": [
    {
     "data": {
      "text/plain": [
       "0"
      ]
     },
     "execution_count": 17,
     "metadata": {},
     "output_type": "execute_result"
    }
   ],
   "source": [
    "### mkdir\n",
    "subprocess.call([\"mkdir\",\"-p\",dirName+\"/CropImage/size_\"+str(extraSize)+\"/RGB_\"+str(quantileRGB)+\"/NG/\"])\n",
    "subprocess.call([\"mkdir\",\"-p\",dirName+\"/CropImage/size_\"+str(extraSize)+\"/RGB_\"+str(quantileRGB)+\"/OK/\"])\n"
   ]
  },
  {
   "cell_type": "code",
   "execution_count": 18,
   "metadata": {},
   "outputs": [],
   "source": [
    "### count mean RGB values ###\n",
    "mean_value_list = list()\n",
    "\n",
    "for i in cluster_pos_df.index:\n",
    "    #print(i)\n",
    "    I = cv2.imread(cluster_pos_df.loc[i,'image_path'])\n",
    "    #print(I.shape)\n",
    "\n",
    "    total_value = np.sum(I[:,:,0]) + np.sum(I[:,:,1]) + np.sum(I[:,:,2])\n",
    "    \n",
    "    total_value = total_value / (I.shape[0] * I.shape[1]) / 3\n",
    "    \n",
    "    #print(total_value)\n",
    "    mean_value_list.append(total_value)\n"
   ]
  },
  {
   "cell_type": "code",
   "execution_count": 19,
   "metadata": {},
   "outputs": [
    {
     "name": "stdout",
     "output_type": "stream",
     "text": [
      "cluster_pos_df: (3813, 11)\n",
      "               Barcode  Cluster  in_tissue  array_row  array_col  \\\n",
      "49  CAGGATCCGCCCGACC-1       10          1          1         49   \n",
      "50  CACGATTGGTCGTTAA-1       10          1          0         50   \n",
      "51  GGTTGTATCGTGAAAT-1       10          1          1         51   \n",
      "52  TCTTATGGGTAGTACC-1       10          1          0         52   \n",
      "53  TACAAGCTGTTCACTG-1       10          1          1         53   \n",
      "\n",
      "    pxl_row_in_fullres  pxl_col_in_fullres  imageID  \\\n",
      "49                4283               10213       49   \n",
      "50                4046               10350       50   \n",
      "51                4284               10486       51   \n",
      "52                4047               10623       52   \n",
      "53                4284               10759       53   \n",
      "\n",
      "                                           image_path ImageFilter  mean_RGB  \n",
      "49  /home/monjo/DeepSpaCE/data/Human_Breast_Cancer...        null  184.2636  \n",
      "50  /home/monjo/DeepSpaCE/data/Human_Breast_Cancer...        null  182.6803  \n",
      "51  /home/monjo/DeepSpaCE/data/Human_Breast_Cancer...        null  166.7648  \n",
      "52  /home/monjo/DeepSpaCE/data/Human_Breast_Cancer...        null  184.4811  \n",
      "53  /home/monjo/DeepSpaCE/data/Human_Breast_Cancer...        null  138.5223  \n"
     ]
    }
   ],
   "source": [
    "cluster_pos_df['mean_RGB'] = [round(f, 4) for f in mean_value_list]\n",
    "\n",
    "print(\"cluster_pos_df: \"+str(cluster_pos_df.shape))\n",
    "print(cluster_pos_df.head())\n"
   ]
  },
  {
   "cell_type": "code",
   "execution_count": 20,
   "metadata": {},
   "outputs": [
    {
     "name": "stdout",
     "output_type": "stream",
     "text": [
      "white_th: 166.28234\n"
     ]
    }
   ],
   "source": [
    "## Define threshold\n",
    "c_array = np.percentile(mean_value_list, q=[quantileRGB])\n",
    "c_array\n",
    "\n",
    "white_th = 255 if quantileRGB == 100 else c_array[0]\n",
    "\n",
    "print(\"white_th: \"+str(white_th))\n"
   ]
  },
  {
   "cell_type": "code",
   "execution_count": 21,
   "metadata": {},
   "outputs": [],
   "source": [
    "with open(dirName+\"/CropImage/size_\"+str(extraSize)+\"/RGB_\"+str(quantileRGB)+\"/white_th.txt\", mode='w') as f:\n",
    "    f.write(str(white_th)+\"\\n\")\n"
   ]
  },
  {
   "cell_type": "code",
   "execution_count": 22,
   "metadata": {},
   "outputs": [],
   "source": [
    "# Histgram\n",
    "fig = plt.figure()\n",
    "\n",
    "plt.hist(mean_value_list, bins=50)\n",
    "\n",
    "plt.xlabel(\"mean RGB\", fontsize=20)\n",
    "plt.ylabel(\"Frequency\", fontsize=20)\n",
    "\n",
    "plt.axvline(x=white_th, color='r')\n",
    "\n",
    "fig.savefig(dirName+\"/CropImage/size_\"+str(extraSize)+\"/RGB_\"+str(quantileRGB)+\"/meanRGB.png\")\n",
    "\n",
    "plt.close()\n"
   ]
  },
  {
   "cell_type": "code",
   "execution_count": 23,
   "metadata": {},
   "outputs": [
    {
     "name": "stdout",
     "output_type": "stream",
     "text": [
      "pixel_th_white: 20000.0\n"
     ]
    }
   ],
   "source": [
    "### Threshold percentage ###\n",
    "pixel_th_white = I.shape[0] * I.shape[1] * 0.5\n",
    "\n",
    "print(\"pixel_th_white: \"+str(pixel_th_white))\n"
   ]
  },
  {
   "cell_type": "code",
   "execution_count": 24,
   "metadata": {},
   "outputs": [],
   "source": [
    "### load Image\n",
    "for i in cluster_pos_df.index:\n",
    "    #print(i)\n",
    "    I = cv2.imread(cluster_pos_df.loc[i,'image_path'])\n",
    "    #print(I.shape)\n",
    "    \n",
    "    ### color threshold (white)\n",
    "    count_white = sum(np.logical_and.reduce((I[:,:,0] > white_th, I[:,:,1] > white_th, I[:,:,2] > white_th)))\n",
    "    \n",
    "    if sum(count_white) > pixel_th_white:\n",
    "        subprocess.call([\"cp\",\"-p\",dirName+\"/CropImage/size_\"+str(extraSize)+\"/spot_images/spot_image_\"+str(i).zfill(4)+\".tif\",dirName+\"/CropImage/size_\"+str(extraSize)+\"/RGB_\"+str(quantileRGB)+\"/NG/\"])\n",
    "        cluster_pos_df.loc[cluster_pos_df.index == i,\"ImageFilter\"] = \"NG\"\n",
    "    else:\n",
    "        subprocess.call([\"cp\",\"-p\",dirName+\"/CropImage/size_\"+str(extraSize)+\"/spot_images/spot_image_\"+str(i).zfill(4)+\".tif\",dirName+\"/CropImage/size_\"+str(extraSize)+\"/RGB_\"+str(quantileRGB)+\"/OK/\"])\n",
    "        cluster_pos_df.loc[cluster_pos_df.index == i,\"ImageFilter\"] = \"OK\"\n",
    " "
   ]
  },
  {
   "cell_type": "code",
   "execution_count": 25,
   "metadata": {},
   "outputs": [],
   "source": [
    "cluster_pos_df.to_csv(dirName+\"/CropImage/size_\"+str(extraSize)+\"/RGB_\"+str(quantileRGB)+\"/cluster_position_filter.txt\", index=False, sep='\\t')\n"
   ]
  },
  {
   "cell_type": "markdown",
   "metadata": {},
   "source": [
    "# Crop Image (interpolation)"
   ]
  },
  {
   "cell_type": "code",
   "execution_count": 26,
   "metadata": {},
   "outputs": [
    {
     "data": {
      "text/plain": [
       "0"
      ]
     },
     "execution_count": 26,
     "metadata": {},
     "output_type": "execute_result"
    }
   ],
   "source": [
    "I = I_org.copy()\n",
    "\n",
    "subprocess.call(['mkdir','-p',dirName+\"/CropImage/size_\"+str(extraSize)+\"/spot_images_inter\"])\n"
   ]
  },
  {
   "cell_type": "code",
   "execution_count": 27,
   "metadata": {},
   "outputs": [],
   "source": [
    "### draw line and text\n",
    "for i in range(4992):\n",
    "    pos_x1 = tissue_pos.iloc[i,5]-radius\n",
    "    pos_x2 = tissue_pos.iloc[i,5]+radius\n",
    "    pos_y1 = tissue_pos.iloc[i,4]-radius\n",
    "    pos_y2 = tissue_pos.iloc[i,4]+radius\n",
    "    \n",
    "    I = cv2.rectangle(I, (pos_x1,pos_y1), (pos_x2,pos_y2), (0, 0, 0), 2)\n",
    "    I = cv2.putText(I, str(i), (pos_x1,pos_y1), cv2.FONT_HERSHEY_DUPLEX, 1.0, (0, 0, 0), lineType=cv2.LINE_AA, thickness=2)\n"
   ]
  },
  {
   "cell_type": "code",
   "execution_count": 28,
   "metadata": {},
   "outputs": [],
   "source": [
    "### draw line and text\n",
    "count_inter = 0\n",
    "\n",
    "for i in range(4992):\n",
    "    \n",
    "    if tissue_pos.iloc[i,3] == 0 or tissue_pos.iloc[i,3] == 127:\n",
    "        continue\n",
    "       \n",
    "    center_x = (tissue_pos.iloc[i-1,5] + tissue_pos.iloc[i,5] + tissue_pos.iloc[i+1,5]) / 3.0\n",
    "    center_y = (tissue_pos.iloc[i-1,4] + tissue_pos.iloc[i,4] + tissue_pos.iloc[i+1,4]) / 3.0\n",
    "\n",
    "    pos_x1 = int(center_x)-radius\n",
    "    pos_x2 = int(center_x)+radius\n",
    "    pos_y1 = int(center_y)-radius\n",
    "    pos_y2 = int(center_y)+radius\n",
    "    \n",
    "    I = cv2.rectangle(I, (pos_x1,pos_y1), (pos_x2,pos_y2), (0, 255, 0), 2)\n",
    "    I = cv2.putText(I, str(count_inter), (pos_x1,pos_y1), cv2.FONT_HERSHEY_DUPLEX, 1.0, (0, 255, 0), lineType=cv2.LINE_AA, thickness=2)\n",
    "\n",
    "    count_inter += 1\n",
    "    \n",
    "    if i % 2 == 0:\n",
    "        if i-127 < 0:\n",
    "            continue\n",
    "\n",
    "        center_x = (tissue_pos.iloc[i-129,5] + tissue_pos.iloc[i,5] + tissue_pos.iloc[i-127,5]) / 3.0\n",
    "        center_y = (tissue_pos.iloc[i-129,4] + tissue_pos.iloc[i,4] + tissue_pos.iloc[i-127,4]) / 3.0\n",
    "\n",
    "    else:\n",
    "        if i+127 > 4991:\n",
    "            continue\n",
    "\n",
    "        center_x = (tissue_pos.iloc[i+127,5] + tissue_pos.iloc[i,5] + tissue_pos.iloc[i+129,5]) / 3.0\n",
    "        center_y = (tissue_pos.iloc[i+127,4] + tissue_pos.iloc[i,4] + tissue_pos.iloc[i+129,4]) / 3.0\n",
    "\n",
    "    pos_x1 = int(center_x)-radius\n",
    "    pos_x2 = int(center_x)+radius\n",
    "    pos_y1 = int(center_y)-radius\n",
    "    pos_y2 = int(center_y)+radius\n",
    "    \n",
    "    I = cv2.rectangle(I, (pos_x1,pos_y1), (pos_x2,pos_y2), (0, 0, 255), 2)\n",
    "    I = cv2.putText(I, str(count_inter), (pos_x1,pos_y1), cv2.FONT_HERSHEY_DUPLEX, 1.0, (0, 0, 255), lineType=cv2.LINE_AA, thickness=2)\n",
    "\n",
    "    count_inter += 1\n"
   ]
  },
  {
   "cell_type": "code",
   "execution_count": 29,
   "metadata": {},
   "outputs": [
    {
     "data": {
      "text/plain": [
       "True"
      ]
     },
     "execution_count": 29,
     "metadata": {},
     "output_type": "execute_result"
    }
   ],
   "source": [
    "### save Image\n",
    "cv2.imwrite(dirName+\"/CropImage/size_\"+str(extraSize)+\"/original_image_with_spots_inter.tif\", I)\n"
   ]
  },
  {
   "cell_type": "code",
   "execution_count": 33,
   "metadata": {},
   "outputs": [],
   "source": [
    "### split Image\n",
    "count_inter = 0\n",
    "\n",
    "I = I_org.copy()\n",
    "\n",
    "image_list = pd.DataFrame(columns=['No','pos_x1','pos_y1','radius'])\n",
    "\n",
    "for i in range(4992):\n",
    "    \n",
    "    if tissue_pos.iloc[i,3] == 0 or tissue_pos.iloc[i,3] == 127:\n",
    "        continue\n",
    "       \n",
    "    center_x = (tissue_pos.iloc[i-1,5] + tissue_pos.iloc[i,5] + tissue_pos.iloc[i+1,5]) / 3.0\n",
    "    center_y = (tissue_pos.iloc[i-1,4] + tissue_pos.iloc[i,4] + tissue_pos.iloc[i+1,4]) / 3.0\n",
    "\n",
    "    pos_x1 = int(center_x)-radius\n",
    "    pos_x2 = int(center_x)+radius\n",
    "    pos_y1 = int(center_y)-radius\n",
    "    pos_y2 = int(center_y)+radius\n",
    "    \n",
    "    I2 = I[pos_y1:pos_y2, pos_x1:pos_x2]\n",
    "    cv2.imwrite(dirName+\"/CropImage/size_\"+str(extraSize)+\"/spot_images_inter/spot_image_inter_\"+str(count_inter).zfill(4)+\"_\"+str(int(center_x))+\"_\"+str(int(center_y))+\".tif\", I2)\n",
    "    \n",
    "    image_list = image_list.append([pd.Series([count_inter,int(center_x),int(center_y),radius],index=image_list.columns)], ignore_index=True)\n",
    "    \n",
    "    count_inter += 1\n",
    "    \n",
    "    if i % 2 == 0:\n",
    "        if i-127 < 0:\n",
    "            continue\n",
    "\n",
    "        center_x = (tissue_pos.iloc[i-129,5] + tissue_pos.iloc[i,5] + tissue_pos.iloc[i-127,5]) / 3.0\n",
    "        center_y = (tissue_pos.iloc[i-129,4] + tissue_pos.iloc[i,4] + tissue_pos.iloc[i-127,4]) / 3.0\n",
    "\n",
    "    else:\n",
    "        if i+127 > 4991:\n",
    "            continue\n",
    "\n",
    "        center_x = (tissue_pos.iloc[i+127,5] + tissue_pos.iloc[i,5] + tissue_pos.iloc[i+129,5]) / 3.0\n",
    "        center_y = (tissue_pos.iloc[i+127,4] + tissue_pos.iloc[i,4] + tissue_pos.iloc[i+129,4]) / 3.0\n",
    "\n",
    "    pos_x1 = int(center_x)-radius\n",
    "    pos_x2 = int(center_x)+radius\n",
    "    pos_y1 = int(center_y)-radius\n",
    "    pos_y2 = int(center_y)+radius\n",
    "    \n",
    "    I2 = I[pos_y1:pos_y2, pos_x1:pos_x2]\n",
    "    cv2.imwrite(dirName+\"/CropImage/size_\"+str(extraSize)+\"/spot_images_inter/spot_image_inter_\"+str(count_inter).zfill(4)+\"_\"+str(int(center_x))+\"_\"+str(int(center_y))+\".tif\", I2)\n",
    "    \n",
    "    image_list = image_list.append([pd.Series([count_inter,int(center_x),int(center_y),radius],index=image_list.columns)], ignore_index=True)\n",
    "\n",
    "    count_inter += 1\n",
    "\n"
   ]
  },
  {
   "cell_type": "markdown",
   "metadata": {},
   "source": [
    "# Make RGB filter list (interpolation)"
   ]
  },
  {
   "cell_type": "code",
   "execution_count": 34,
   "metadata": {},
   "outputs": [
    {
     "name": "stdout",
     "output_type": "stream",
     "text": [
      "image_list: (9702, 6)\n",
      "  No pos_x1 pos_y1 radius ImageFilter  \\\n",
      "0  0   3660   4113    100        null   \n",
      "1  1   3659   4429    100        null   \n",
      "2  2   3796   4192    100        null   \n",
      "3  3   3933   4113    100        null   \n",
      "4  4   3932   4430    100        null   \n",
      "\n",
      "                                          image_path  \n",
      "0  /home/monjo/DeepSpaCE/data/Human_Breast_Cancer...  \n",
      "1  /home/monjo/DeepSpaCE/data/Human_Breast_Cancer...  \n",
      "2  /home/monjo/DeepSpaCE/data/Human_Breast_Cancer...  \n",
      "3  /home/monjo/DeepSpaCE/data/Human_Breast_Cancer...  \n",
      "4  /home/monjo/DeepSpaCE/data/Human_Breast_Cancer...  \n"
     ]
    }
   ],
   "source": [
    "### interpolated image list ###\n",
    "image_list['ImageFilter'] = \"null\"\n",
    "image_list['image_path'] = [dirName+\"/CropImage/size_\"+str(extraSize)+\"/spot_images_inter/spot_image_inter_\"+str(no).zfill(4)+\"_\"+str(x)+\"_\"+str(y)+\".tif\" for no,x,y in zip(image_list['No'],image_list['pos_x1'],image_list['pos_y1'])]\n",
    "\n",
    "print(\"image_list: \"+str(image_list.shape))\n",
    "print(image_list.head())\n"
   ]
  },
  {
   "cell_type": "code",
   "execution_count": 35,
   "metadata": {},
   "outputs": [
    {
     "data": {
      "text/plain": [
       "0"
      ]
     },
     "execution_count": 35,
     "metadata": {},
     "output_type": "execute_result"
    }
   ],
   "source": [
    "### mkdir\n",
    "subprocess.call([\"mkdir\",\"-p\",dirName+\"/CropImage/size_\"+str(extraSize)+\"/RGB_\"+str(quantileRGB)+\"/NG_inter/\"])\n",
    "subprocess.call([\"mkdir\",\"-p\",dirName+\"/CropImage/size_\"+str(extraSize)+\"/RGB_\"+str(quantileRGB)+\"/OK_inter/\"])\n"
   ]
  },
  {
   "cell_type": "code",
   "execution_count": 36,
   "metadata": {},
   "outputs": [],
   "source": [
    "### count mean RGB values ###\n",
    "mean_value_list = list()\n",
    "\n",
    "for i in image_list.index:\n",
    "    #print(i)\n",
    "    \n",
    "    I = cv2.imread(image_list.loc[i,'image_path'])\n",
    "\n",
    "    total_value = np.sum(I[:,:,0]) + np.sum(I[:,:,1]) + np.sum(I[:,:,2])\n",
    "    \n",
    "    total_value = total_value / (I.shape[0] * I.shape[1]) / 3\n",
    "    \n",
    "    mean_value_list.append(total_value)\n"
   ]
  },
  {
   "cell_type": "code",
   "execution_count": 37,
   "metadata": {},
   "outputs": [
    {
     "name": "stdout",
     "output_type": "stream",
     "text": [
      "image_list: (9702, 7)\n",
      "  No pos_x1 pos_y1 radius ImageFilter  \\\n",
      "0  0   3660   4113    100        null   \n",
      "1  1   3659   4429    100        null   \n",
      "2  2   3796   4192    100        null   \n",
      "3  3   3933   4113    100        null   \n",
      "4  4   3932   4430    100        null   \n",
      "\n",
      "                                          image_path  mean_RGB  \n",
      "0  /home/monjo/DeepSpaCE/data/Human_Breast_Cancer...  191.1222  \n",
      "1  /home/monjo/DeepSpaCE/data/Human_Breast_Cancer...  190.8056  \n",
      "2  /home/monjo/DeepSpaCE/data/Human_Breast_Cancer...  190.9144  \n",
      "3  /home/monjo/DeepSpaCE/data/Human_Breast_Cancer...  191.2024  \n",
      "4  /home/monjo/DeepSpaCE/data/Human_Breast_Cancer...  191.0551  \n"
     ]
    }
   ],
   "source": [
    "image_list['mean_RGB'] = [round(f, 4) for f in mean_value_list]\n",
    "\n",
    "print(\"image_list: \"+str(image_list.shape))\n",
    "print(image_list.head())\n"
   ]
  },
  {
   "cell_type": "code",
   "execution_count": 38,
   "metadata": {},
   "outputs": [
    {
     "name": "stdout",
     "output_type": "stream",
     "text": [
      "white_th: 166.28234\n"
     ]
    }
   ],
   "source": [
    "## read RGB threshold\n",
    "with open(dirName+\"/CropImage/size_\"+str(extraSize)+\"/RGB_\"+str(quantileRGB)+\"/white_th.txt\", mode='r') as f:\n",
    "    white_th = f.read().splitlines()[0]\n",
    "    white_th = float(white_th)\n",
    "\n",
    "white_th\n",
    "\n",
    "print(\"white_th: \"+str(white_th))\n"
   ]
  },
  {
   "cell_type": "code",
   "execution_count": 39,
   "metadata": {},
   "outputs": [],
   "source": [
    "# Histgram\n",
    "fig = plt.figure()\n",
    "\n",
    "plt.hist(mean_value_list, bins=50)\n",
    "\n",
    "plt.xlabel(\"mean RGB\", fontsize=20)\n",
    "plt.ylabel(\"Frequency\", fontsize=20)\n",
    "\n",
    "plt.axvline(x=white_th, color='r')\n",
    "\n",
    "fig.savefig(dirName+\"/CropImage/size_\"+str(extraSize)+\"/RGB_\"+str(quantileRGB)+\"/meanRGB_inter.png\")\n",
    "\n",
    "plt.close()\n"
   ]
  },
  {
   "cell_type": "code",
   "execution_count": 40,
   "metadata": {},
   "outputs": [
    {
     "name": "stdout",
     "output_type": "stream",
     "text": [
      "pixel_th_white: 20000.0\n"
     ]
    }
   ],
   "source": [
    "### Threshold percentage ###\n",
    "pixel_th_white = I.shape[0] * I.shape[1] * 0.5\n",
    "\n",
    "print(\"pixel_th_white: \"+str(pixel_th_white))\n"
   ]
  },
  {
   "cell_type": "code",
   "execution_count": 60,
   "metadata": {},
   "outputs": [],
   "source": [
    "### load Image\n",
    "for i in image_list.index:\n",
    "    #print(i)\n",
    "    \n",
    "    I = cv2.imread(image_list.loc[i,'image_path'])\n",
    "    \n",
    "    ### color threshold (white)\n",
    "    count_white = sum(np.logical_and.reduce((I[:,:,0] > white_th, I[:,:,1] > white_th, I[:,:,2] > white_th)))\n",
    "    \n",
    "    if sum(count_white) > pixel_th_white:\n",
    "        subprocess.call([\"cp\",\"-p\",image_list.loc[image_list.index == i,\"image_path\"].tolist()[0],dirName+\"/CropImage/size_\"+str(extraSize)+\"/RGB_\"+str(quantileRGB)+\"/NG_inter/\"])\n",
    "        image_list.loc[image_list.index == i,\"ImageFilter\"] = \"NG\"\n",
    "    else:\n",
    "        subprocess.call([\"cp\",\"-p\",image_list.loc[image_list.index == i,\"image_path\"].tolist()[0],dirName+\"/CropImage/size_\"+str(extraSize)+\"/RGB_\"+str(quantileRGB)+\"/OK_inter/\"])\n",
    "        image_list.loc[image_list.index == i,\"ImageFilter\"] = \"OK\"\n",
    " "
   ]
  },
  {
   "cell_type": "code",
   "execution_count": 42,
   "metadata": {},
   "outputs": [],
   "source": [
    "image_list.to_csv(dirName+\"/CropImage/size_\"+str(extraSize)+\"/RGB_\"+str(quantileRGB)+\"/image_list_inter.txt\", index=False, sep='\\t')\n"
   ]
  },
  {
   "cell_type": "code",
   "execution_count": null,
   "metadata": {},
   "outputs": [],
   "source": []
  },
  {
   "cell_type": "code",
   "execution_count": null,
   "metadata": {},
   "outputs": [],
   "source": []
  }
 ],
 "metadata": {
  "kernelspec": {
   "display_name": "Python 3",
   "language": "python",
   "name": "python3"
  },
  "language_info": {
   "codemirror_mode": {
    "name": "ipython",
    "version": 3
   },
   "file_extension": ".py",
   "mimetype": "text/x-python",
   "name": "python",
   "nbconvert_exporter": "python",
   "pygments_lexer": "ipython3",
   "version": "3.6.5"
  }
 },
 "nbformat": 4,
 "nbformat_minor": 4
}
